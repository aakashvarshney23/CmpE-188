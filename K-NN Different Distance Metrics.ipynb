{
 "cells": [
  {
   "cell_type": "markdown",
   "metadata": {},
   "source": [
    "### K-NN implemented with different distance metrics"
   ]
  },
  {
   "cell_type": "code",
   "execution_count": 1,
   "metadata": {},
   "outputs": [
    {
     "name": "stdout",
     "output_type": "stream",
     "text": [
      "pandas version 0.24.1\n"
     ]
    }
   ],
   "source": [
    "import pandas as pd\n",
    "import numpy as np\n",
    "from sklearn.neighbors import KNeighborsClassifier\n",
    "from sklearn.model_selection import train_test_split\n",
    "from sklearn import neighbors\n",
    "from sklearn.metrics import confusion_matrix, precision_score, recall_score,accuracy_score\n",
    "\n",
    "print('pandas version {}'.format(pd.__version__))"
   ]
  },
  {
   "cell_type": "code",
   "execution_count": 2,
   "metadata": {},
   "outputs": [],
   "source": [
    "data =  pd.read_csv('/Users/aakashvarshney/Downloads/indian_liver_patient.csv')"
   ]
  },
  {
   "cell_type": "code",
   "execution_count": 3,
   "metadata": {},
   "outputs": [
    {
     "data": {
      "text/html": [
       "<div>\n",
       "<style scoped>\n",
       "    .dataframe tbody tr th:only-of-type {\n",
       "        vertical-align: middle;\n",
       "    }\n",
       "\n",
       "    .dataframe tbody tr th {\n",
       "        vertical-align: top;\n",
       "    }\n",
       "\n",
       "    .dataframe thead th {\n",
       "        text-align: right;\n",
       "    }\n",
       "</style>\n",
       "<table border=\"1\" class=\"dataframe\">\n",
       "  <thead>\n",
       "    <tr style=\"text-align: right;\">\n",
       "      <th></th>\n",
       "      <th>Age</th>\n",
       "      <th>Gender</th>\n",
       "      <th>Total_Bilirubin</th>\n",
       "      <th>Direct_Bilirubin</th>\n",
       "      <th>Alkaline_Phosphotase</th>\n",
       "      <th>Alamine_Aminotransferase</th>\n",
       "      <th>Aspartate_Aminotransferase</th>\n",
       "      <th>Total_Protiens</th>\n",
       "      <th>Albumin</th>\n",
       "      <th>Albumin_and_Globulin_Ratio</th>\n",
       "      <th>Dataset</th>\n",
       "    </tr>\n",
       "  </thead>\n",
       "  <tbody>\n",
       "    <tr>\n",
       "      <th>0</th>\n",
       "      <td>65</td>\n",
       "      <td>Female</td>\n",
       "      <td>0.7</td>\n",
       "      <td>0.1</td>\n",
       "      <td>187</td>\n",
       "      <td>16</td>\n",
       "      <td>18</td>\n",
       "      <td>6.8</td>\n",
       "      <td>3.3</td>\n",
       "      <td>0.90</td>\n",
       "      <td>1</td>\n",
       "    </tr>\n",
       "    <tr>\n",
       "      <th>1</th>\n",
       "      <td>62</td>\n",
       "      <td>Male</td>\n",
       "      <td>10.9</td>\n",
       "      <td>5.5</td>\n",
       "      <td>699</td>\n",
       "      <td>64</td>\n",
       "      <td>100</td>\n",
       "      <td>7.5</td>\n",
       "      <td>3.2</td>\n",
       "      <td>0.74</td>\n",
       "      <td>1</td>\n",
       "    </tr>\n",
       "    <tr>\n",
       "      <th>2</th>\n",
       "      <td>62</td>\n",
       "      <td>Male</td>\n",
       "      <td>7.3</td>\n",
       "      <td>4.1</td>\n",
       "      <td>490</td>\n",
       "      <td>60</td>\n",
       "      <td>68</td>\n",
       "      <td>7.0</td>\n",
       "      <td>3.3</td>\n",
       "      <td>0.89</td>\n",
       "      <td>1</td>\n",
       "    </tr>\n",
       "    <tr>\n",
       "      <th>3</th>\n",
       "      <td>58</td>\n",
       "      <td>Male</td>\n",
       "      <td>1.0</td>\n",
       "      <td>0.4</td>\n",
       "      <td>182</td>\n",
       "      <td>14</td>\n",
       "      <td>20</td>\n",
       "      <td>6.8</td>\n",
       "      <td>3.4</td>\n",
       "      <td>1.00</td>\n",
       "      <td>1</td>\n",
       "    </tr>\n",
       "    <tr>\n",
       "      <th>4</th>\n",
       "      <td>72</td>\n",
       "      <td>Male</td>\n",
       "      <td>3.9</td>\n",
       "      <td>2.0</td>\n",
       "      <td>195</td>\n",
       "      <td>27</td>\n",
       "      <td>59</td>\n",
       "      <td>7.3</td>\n",
       "      <td>2.4</td>\n",
       "      <td>0.40</td>\n",
       "      <td>1</td>\n",
       "    </tr>\n",
       "  </tbody>\n",
       "</table>\n",
       "</div>"
      ],
      "text/plain": [
       "   Age  Gender  Total_Bilirubin  Direct_Bilirubin  Alkaline_Phosphotase  \\\n",
       "0   65  Female              0.7               0.1                   187   \n",
       "1   62    Male             10.9               5.5                   699   \n",
       "2   62    Male              7.3               4.1                   490   \n",
       "3   58    Male              1.0               0.4                   182   \n",
       "4   72    Male              3.9               2.0                   195   \n",
       "\n",
       "   Alamine_Aminotransferase  Aspartate_Aminotransferase  Total_Protiens  \\\n",
       "0                        16                          18             6.8   \n",
       "1                        64                         100             7.5   \n",
       "2                        60                          68             7.0   \n",
       "3                        14                          20             6.8   \n",
       "4                        27                          59             7.3   \n",
       "\n",
       "   Albumin  Albumin_and_Globulin_Ratio  Dataset  \n",
       "0      3.3                        0.90        1  \n",
       "1      3.2                        0.74        1  \n",
       "2      3.3                        0.89        1  \n",
       "3      3.4                        1.00        1  \n",
       "4      2.4                        0.40        1  "
      ]
     },
     "execution_count": 3,
     "metadata": {},
     "output_type": "execute_result"
    }
   ],
   "source": [
    "data.head(5)"
   ]
  },
  {
   "cell_type": "markdown",
   "metadata": {},
   "source": [
    "### Exploratory Data Analysis"
   ]
  },
  {
   "cell_type": "code",
   "execution_count": 4,
   "metadata": {},
   "outputs": [
    {
     "name": "stdout",
     "output_type": "stream",
     "text": [
      "Data set shape (583, 11) \n"
     ]
    }
   ],
   "source": [
    "# shape\n",
    "print('Data set shape {} '.format(data.shape))"
   ]
  },
  {
   "cell_type": "markdown",
   "metadata": {},
   "source": [
    "It is small dataset with 10 indendent features and 1 Label. Let see the Label information."
   ]
  },
  {
   "cell_type": "code",
   "execution_count": 5,
   "metadata": {},
   "outputs": [
    {
     "data": {
      "text/plain": [
       "1    416\n",
       "2    167\n",
       "Name: Dataset, dtype: int64"
      ]
     },
     "execution_count": 5,
     "metadata": {},
     "output_type": "execute_result"
    }
   ],
   "source": [
    "data['Dataset'].value_counts()"
   ]
  },
  {
   "cell_type": "markdown",
   "metadata": {},
   "source": [
    "There are 167 case of Non Liver Patient while 416 observation from Liver patients"
   ]
  },
  {
   "cell_type": "code",
   "execution_count": 6,
   "metadata": {},
   "outputs": [],
   "source": [
    "data['Dataset'] = [0 if x == 2 else x for x in data['Dataset']]\n",
    "data['Gender'] = [1 if x == 'Male' else 0 for x in data['Gender']]"
   ]
  },
  {
   "cell_type": "code",
   "execution_count": 7,
   "metadata": {},
   "outputs": [
    {
     "data": {
      "text/plain": [
       "Age                           0\n",
       "Gender                        0\n",
       "Total_Bilirubin               0\n",
       "Direct_Bilirubin              0\n",
       "Alkaline_Phosphotase          0\n",
       "Alamine_Aminotransferase      0\n",
       "Aspartate_Aminotransferase    0\n",
       "Total_Protiens                0\n",
       "Albumin                       0\n",
       "Albumin_and_Globulin_Ratio    4\n",
       "Dataset                       0\n",
       "dtype: int64"
      ]
     },
     "execution_count": 7,
     "metadata": {},
     "output_type": "execute_result"
    }
   ],
   "source": [
    "# remove Null/ missing values\n",
    "data.isnull().sum()"
   ]
  },
  {
   "cell_type": "markdown",
   "metadata": {},
   "source": [
    "There are 4 observations have missing values for Albumin_and_Globulin_Ratio. Let drop them."
   ]
  },
  {
   "cell_type": "code",
   "execution_count": 8,
   "metadata": {},
   "outputs": [],
   "source": [
    "data.dropna(inplace=True)"
   ]
  },
  {
   "cell_type": "code",
   "execution_count": 9,
   "metadata": {},
   "outputs": [],
   "source": [
    "y = data['Dataset']\n",
    "X = data.drop(['Dataset'],axis = 1)"
   ]
  },
  {
   "cell_type": "markdown",
   "metadata": {},
   "source": [
    "### Split data in training and test dataset"
   ]
  },
  {
   "cell_type": "code",
   "execution_count": 10,
   "metadata": {},
   "outputs": [],
   "source": [
    "X_train, X_test, y_train, y_test = train_test_split(X,y, test_size= 0.3, random_state = 42)"
   ]
  },
  {
   "cell_type": "code",
   "execution_count": 11,
   "metadata": {},
   "outputs": [
    {
     "name": "stderr",
     "output_type": "stream",
     "text": [
      "/Users/aakashvarshney/.local/lib/python3.7/site-packages/sklearn/preprocessing/data.py:625: DataConversionWarning: Data with input dtype int64, float64 were all converted to float64 by StandardScaler.\n",
      "  return self.partial_fit(X, y)\n",
      "/anaconda3/lib/python3.7/site-packages/ipykernel_launcher.py:4: DataConversionWarning: Data with input dtype int64, float64 were all converted to float64 by StandardScaler.\n",
      "  after removing the cwd from sys.path.\n",
      "/anaconda3/lib/python3.7/site-packages/ipykernel_launcher.py:5: DataConversionWarning: Data with input dtype int64, float64 were all converted to float64 by StandardScaler.\n",
      "  \"\"\"\n"
     ]
    }
   ],
   "source": [
    "### Preprocess the data from KNN as knn highly depends on distance\n",
    "from sklearn.preprocessing import StandardScaler\n",
    "scale = StandardScaler().fit(X_train)\n",
    "X_train_scaled = scale.transform(X_train)\n",
    "X_test_scaled = scale.transform(X_test)"
   ]
  },
  {
   "cell_type": "code",
   "execution_count": 12,
   "metadata": {},
   "outputs": [
    {
     "data": {
      "text/html": [
       "<div>\n",
       "<style scoped>\n",
       "    .dataframe tbody tr th:only-of-type {\n",
       "        vertical-align: middle;\n",
       "    }\n",
       "\n",
       "    .dataframe tbody tr th {\n",
       "        vertical-align: top;\n",
       "    }\n",
       "\n",
       "    .dataframe thead th {\n",
       "        text-align: right;\n",
       "    }\n",
       "</style>\n",
       "<table border=\"1\" class=\"dataframe\">\n",
       "  <thead>\n",
       "    <tr style=\"text-align: right;\">\n",
       "      <th></th>\n",
       "      <th>Age</th>\n",
       "      <th>Gender</th>\n",
       "      <th>Total_Bilirubin</th>\n",
       "      <th>Direct_Bilirubin</th>\n",
       "      <th>Alkaline_Phosphotase</th>\n",
       "      <th>Alamine_Aminotransferase</th>\n",
       "      <th>Aspartate_Aminotransferase</th>\n",
       "      <th>Total_Protiens</th>\n",
       "      <th>Albumin</th>\n",
       "      <th>Albumin_and_Globulin_Ratio</th>\n",
       "    </tr>\n",
       "  </thead>\n",
       "  <tbody>\n",
       "    <tr>\n",
       "      <th>0</th>\n",
       "      <td>0.232937</td>\n",
       "      <td>-1.844498</td>\n",
       "      <td>-0.406846</td>\n",
       "      <td>-0.468453</td>\n",
       "      <td>-0.626836</td>\n",
       "      <td>-0.314676</td>\n",
       "      <td>-0.300257</td>\n",
       "      <td>-0.477483</td>\n",
       "      <td>-0.708987</td>\n",
       "      <td>-0.778005</td>\n",
       "    </tr>\n",
       "    <tr>\n",
       "      <th>1</th>\n",
       "      <td>0.983651</td>\n",
       "      <td>0.542153</td>\n",
       "      <td>-0.406846</td>\n",
       "      <td>-0.468453</td>\n",
       "      <td>-0.315105</td>\n",
       "      <td>-0.325890</td>\n",
       "      <td>-0.327225</td>\n",
       "      <td>-0.204218</td>\n",
       "      <td>-0.207433</td>\n",
       "      <td>-0.171826</td>\n",
       "    </tr>\n",
       "    <tr>\n",
       "      <th>2</th>\n",
       "      <td>-1.018252</td>\n",
       "      <td>0.542153</td>\n",
       "      <td>-0.406846</td>\n",
       "      <td>-0.435577</td>\n",
       "      <td>-0.421862</td>\n",
       "      <td>-0.348318</td>\n",
       "      <td>-0.337338</td>\n",
       "      <td>-2.208162</td>\n",
       "      <td>-0.959764</td>\n",
       "      <td>1.343624</td>\n",
       "    </tr>\n",
       "    <tr>\n",
       "      <th>3</th>\n",
       "      <td>-0.705454</td>\n",
       "      <td>0.542153</td>\n",
       "      <td>-0.262207</td>\n",
       "      <td>-0.271201</td>\n",
       "      <td>-0.396240</td>\n",
       "      <td>-0.320283</td>\n",
       "      <td>-0.310370</td>\n",
       "      <td>1.344284</td>\n",
       "      <td>1.046453</td>\n",
       "      <td>0.131264</td>\n",
       "    </tr>\n",
       "    <tr>\n",
       "      <th>4</th>\n",
       "      <td>1.922043</td>\n",
       "      <td>0.542153</td>\n",
       "      <td>-0.392382</td>\n",
       "      <td>-0.468453</td>\n",
       "      <td>-0.353538</td>\n",
       "      <td>-0.213753</td>\n",
       "      <td>-0.273288</td>\n",
       "      <td>-0.295306</td>\n",
       "      <td>-0.332821</td>\n",
       "      <td>-0.474916</td>\n",
       "    </tr>\n",
       "  </tbody>\n",
       "</table>\n",
       "</div>"
      ],
      "text/plain": [
       "        Age    Gender  Total_Bilirubin  Direct_Bilirubin  \\\n",
       "0  0.232937 -1.844498        -0.406846         -0.468453   \n",
       "1  0.983651  0.542153        -0.406846         -0.468453   \n",
       "2 -1.018252  0.542153        -0.406846         -0.435577   \n",
       "3 -0.705454  0.542153        -0.262207         -0.271201   \n",
       "4  1.922043  0.542153        -0.392382         -0.468453   \n",
       "\n",
       "   Alkaline_Phosphotase  Alamine_Aminotransferase  Aspartate_Aminotransferase  \\\n",
       "0             -0.626836                 -0.314676                   -0.300257   \n",
       "1             -0.315105                 -0.325890                   -0.327225   \n",
       "2             -0.421862                 -0.348318                   -0.337338   \n",
       "3             -0.396240                 -0.320283                   -0.310370   \n",
       "4             -0.353538                 -0.213753                   -0.273288   \n",
       "\n",
       "   Total_Protiens   Albumin  Albumin_and_Globulin_Ratio  \n",
       "0       -0.477483 -0.708987                   -0.778005  \n",
       "1       -0.204218 -0.207433                   -0.171826  \n",
       "2       -2.208162 -0.959764                    1.343624  \n",
       "3        1.344284  1.046453                    0.131264  \n",
       "4       -0.295306 -0.332821                   -0.474916  "
      ]
     },
     "execution_count": 12,
     "metadata": {},
     "output_type": "execute_result"
    }
   ],
   "source": [
    "pd.DataFrame(X_train_scaled,columns = X_train.columns).head()"
   ]
  },
  {
   "cell_type": "code",
   "execution_count": 13,
   "metadata": {},
   "outputs": [],
   "source": [
    "def KNN_test(neighbors, p_value):\n",
    "    knn_clf  = KNeighborsClassifier(n_neighbors=neighbors, metric= p_value).fit(X_train_scaled, y_train)\n",
    "    print ('Neighbor', neighbors)\n",
    "    print ('Distance type : {}'.format(p_value))\n",
    "    print('-'*10)\n",
    "    print('Training Data Score : {}'.format(knn_clf.score(X_train_scaled,y_train)))\n",
    "    print('Test Data Score : {}'.format(knn_clf.score(X_test_scaled,y_test)))\n",
    "    print('-'*40)\n",
    "\n",
    "    "
   ]
  },
  {
   "cell_type": "markdown",
   "metadata": {},
   "source": [
    "### Types of Distance in K-NN {euclidean, manhattan, chebyshev, minkowski, wminkowski, seuclidean, mahalanobis}"
   ]
  },
  {
   "cell_type": "code",
   "execution_count": 58,
   "metadata": {
    "scrolled": true
   },
   "outputs": [
    {
     "name": "stdout",
     "output_type": "stream",
     "text": [
      "Neighbor 1\n",
      "Distance type : euclidean\n",
      "----------\n",
      "Training Data Score : 1.0\n",
      "Test Data Score : 0.6436781609195402\n",
      "----------------------------------------\n",
      "Neighbor 2\n",
      "Distance type : euclidean\n",
      "----------\n",
      "Training Data Score : 0.8296296296296296\n",
      "Test Data Score : 0.632183908045977\n",
      "----------------------------------------\n",
      "Neighbor 3\n",
      "Distance type : euclidean\n",
      "----------\n",
      "Training Data Score : 0.8469135802469135\n",
      "Test Data Score : 0.7011494252873564\n",
      "----------------------------------------\n",
      "Neighbor 4\n",
      "Distance type : euclidean\n",
      "----------\n",
      "Training Data Score : 0.7802469135802469\n",
      "Test Data Score : 0.6379310344827587\n",
      "----------------------------------------\n",
      "Neighbor 5\n",
      "Distance type : euclidean\n",
      "----------\n",
      "Training Data Score : 0.7901234567901234\n",
      "Test Data Score : 0.6609195402298851\n",
      "----------------------------------------\n",
      "Neighbor 6\n",
      "Distance type : euclidean\n",
      "----------\n",
      "Training Data Score : 0.7555555555555555\n",
      "Test Data Score : 0.6206896551724138\n",
      "----------------------------------------\n",
      "Neighbor 7\n",
      "Distance type : euclidean\n",
      "----------\n",
      "Training Data Score : 0.7604938271604939\n",
      "Test Data Score : 0.6264367816091954\n",
      "----------------------------------------\n",
      "Neighbor 8\n",
      "Distance type : euclidean\n",
      "----------\n",
      "Training Data Score : 0.7234567901234568\n",
      "Test Data Score : 0.6436781609195402\n",
      "----------------------------------------\n",
      "Neighbor 9\n",
      "Distance type : euclidean\n",
      "----------\n",
      "Training Data Score : 0.7555555555555555\n",
      "Test Data Score : 0.6551724137931034\n",
      "----------------------------------------\n",
      "Neighbor 10\n",
      "Distance type : euclidean\n",
      "----------\n",
      "Training Data Score : 0.7432098765432099\n",
      "Test Data Score : 0.6206896551724138\n",
      "----------------------------------------\n"
     ]
    }
   ],
   "source": [
    "for x in range(10):\n",
    "    KNN_test(x + 1, 'euclidean')"
   ]
  },
  {
   "cell_type": "code",
   "execution_count": 59,
   "metadata": {},
   "outputs": [],
   "source": [
    "distance_given = {'euclidean', 'manhattan', 'minkowski',  'chebyshev', 'canberra', 'jaccard', 'dice'}\n"
   ]
  },
  {
   "cell_type": "code",
   "execution_count": 60,
   "metadata": {},
   "outputs": [
    {
     "name": "stdout",
     "output_type": "stream",
     "text": [
      "Neighbor 5\n",
      "Distance type : manhattan\n",
      "----------\n",
      "Training Data Score : 0.7901234567901234\n",
      "Test Data Score : 0.6436781609195402\n",
      "----------------------------------------\n",
      "Neighbor 5\n",
      "Distance type : canberra\n",
      "----------\n",
      "Training Data Score : 0.7679012345679013\n",
      "Test Data Score : 0.6896551724137931\n",
      "----------------------------------------\n",
      "Neighbor 5\n",
      "Distance type : jaccard\n",
      "----------\n",
      "Training Data Score : 0.7432098765432099\n",
      "Test Data Score : 0.6494252873563219\n",
      "----------------------------------------\n",
      "Neighbor 5\n",
      "Distance type : euclidean\n",
      "----------\n",
      "Training Data Score : 0.7901234567901234\n",
      "Test Data Score : 0.6609195402298851\n",
      "----------------------------------------\n",
      "Neighbor 5\n",
      "Distance type : minkowski\n",
      "----------\n",
      "Training Data Score : 0.7901234567901234\n",
      "Test Data Score : 0.6609195402298851\n",
      "----------------------------------------\n",
      "Neighbor 5\n",
      "Distance type : dice\n",
      "----------\n",
      "Training Data Score : 0.7432098765432099\n",
      "Test Data Score : 0.6494252873563219\n",
      "----------------------------------------\n",
      "Neighbor 5\n",
      "Distance type : chebyshev\n",
      "----------\n",
      "Training Data Score : 0.8098765432098766\n",
      "Test Data Score : 0.6781609195402298\n",
      "----------------------------------------\n"
     ]
    }
   ],
   "source": [
    "for i in distance_given:\n",
    "    KNN_test(5, i)"
   ]
  },
  {
   "cell_type": "code",
   "execution_count": null,
   "metadata": {},
   "outputs": [],
   "source": []
  }
 ],
 "metadata": {
  "kernelspec": {
   "display_name": "Python 3",
   "language": "python",
   "name": "python3"
  },
  "language_info": {
   "codemirror_mode": {
    "name": "ipython",
    "version": 3
   },
   "file_extension": ".py",
   "mimetype": "text/x-python",
   "name": "python",
   "nbconvert_exporter": "python",
   "pygments_lexer": "ipython3",
   "version": "3.7.1"
  }
 },
 "nbformat": 4,
 "nbformat_minor": 2
}
