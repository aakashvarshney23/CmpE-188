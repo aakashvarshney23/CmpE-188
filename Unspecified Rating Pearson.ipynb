{
 "cells": [
  {
   "cell_type": "markdown",
   "metadata": {},
   "source": [
    "Predict the values of unspecified ratings of user 2 using user-based collaborative\n",
    "\n",
    "filtering algorithms, using Pearson correlation."
   ]
  },
  {
   "cell_type": "code",
   "execution_count": 21,
   "metadata": {},
   "outputs": [],
   "source": [
    "import numpy as np\n",
    "import pandas as pd\n",
    "from scipy.linalg import svd\n",
    "from sklearn.metrics.pairwise import cosine_similarity\n",
    "from sklearn.metrics import pairwise_distances"
   ]
  },
  {
   "cell_type": "code",
   "execution_count": 22,
   "metadata": {},
   "outputs": [],
   "source": [
    "d= {'Item ID 1': [5,4,'null',7,1],\n",
    "    'Item ID 2': [6,'null',3,4,'null'], \n",
    "    'Item ID 3': [7,5,4,3,3], \n",
    "    'Item ID 4': [4,'null',1,6,2], \n",
    "    'Item ID 5': [3,5,1,'null',2], \n",
    "    'Item ID 6': ['null',4,'null',4,5] }"
   ]
  },
  {
   "cell_type": "code",
   "execution_count": 23,
   "metadata": {},
   "outputs": [
    {
     "data": {
      "text/html": [
       "<div>\n",
       "<style scoped>\n",
       "    .dataframe tbody tr th:only-of-type {\n",
       "        vertical-align: middle;\n",
       "    }\n",
       "\n",
       "    .dataframe tbody tr th {\n",
       "        vertical-align: top;\n",
       "    }\n",
       "\n",
       "    .dataframe thead th {\n",
       "        text-align: right;\n",
       "    }\n",
       "</style>\n",
       "<table border=\"1\" class=\"dataframe\">\n",
       "  <thead>\n",
       "    <tr style=\"text-align: right;\">\n",
       "      <th></th>\n",
       "      <th>Item ID 1</th>\n",
       "      <th>Item ID 2</th>\n",
       "      <th>Item ID 3</th>\n",
       "      <th>Item ID 4</th>\n",
       "      <th>Item ID 5</th>\n",
       "      <th>Item ID 6</th>\n",
       "    </tr>\n",
       "  </thead>\n",
       "  <tbody>\n",
       "    <tr>\n",
       "      <th>0</th>\n",
       "      <td>5</td>\n",
       "      <td>6</td>\n",
       "      <td>7</td>\n",
       "      <td>4</td>\n",
       "      <td>3</td>\n",
       "      <td>null</td>\n",
       "    </tr>\n",
       "    <tr>\n",
       "      <th>1</th>\n",
       "      <td>4</td>\n",
       "      <td>null</td>\n",
       "      <td>5</td>\n",
       "      <td>null</td>\n",
       "      <td>5</td>\n",
       "      <td>4</td>\n",
       "    </tr>\n",
       "    <tr>\n",
       "      <th>2</th>\n",
       "      <td>null</td>\n",
       "      <td>3</td>\n",
       "      <td>4</td>\n",
       "      <td>1</td>\n",
       "      <td>1</td>\n",
       "      <td>null</td>\n",
       "    </tr>\n",
       "    <tr>\n",
       "      <th>3</th>\n",
       "      <td>7</td>\n",
       "      <td>4</td>\n",
       "      <td>3</td>\n",
       "      <td>6</td>\n",
       "      <td>null</td>\n",
       "      <td>4</td>\n",
       "    </tr>\n",
       "    <tr>\n",
       "      <th>4</th>\n",
       "      <td>1</td>\n",
       "      <td>null</td>\n",
       "      <td>3</td>\n",
       "      <td>2</td>\n",
       "      <td>2</td>\n",
       "      <td>5</td>\n",
       "    </tr>\n",
       "  </tbody>\n",
       "</table>\n",
       "</div>"
      ],
      "text/plain": [
       "  Item ID 1 Item ID 2  Item ID 3 Item ID 4 Item ID 5 Item ID 6\n",
       "0         5         6          7         4         3      null\n",
       "1         4      null          5      null         5         4\n",
       "2      null         3          4         1         1      null\n",
       "3         7         4          3         6      null         4\n",
       "4         1      null          3         2         2         5"
      ]
     },
     "execution_count": 23,
     "metadata": {},
     "output_type": "execute_result"
    }
   ],
   "source": [
    "df = pd.DataFrame(data= d)\n",
    "df"
   ]
  },
  {
   "cell_type": "code",
   "execution_count": 24,
   "metadata": {},
   "outputs": [],
   "source": [
    "df['Item ID 1'] = df['Item ID 1'].replace({'null':np.nan}).astype(float)\n",
    "df['Item ID 2'] = df['Item ID 2'].replace({'null':np.nan}).astype(float)\n",
    "df['Item ID 4'] = df['Item ID 4'].replace({'null':np.nan}).astype(float)\n",
    "df['Item ID 5'] = df['Item ID 5'].replace({'null':np.nan}).astype(float)\n",
    "df['Item ID 6'] = df['Item ID 6'].replace({'null':np.nan}).astype(float)"
   ]
  },
  {
   "cell_type": "code",
   "execution_count": 25,
   "metadata": {},
   "outputs": [],
   "source": [
    "df[\"Item ID 1\"] = df[\"Item ID 1\"].fillna(0)\n",
    "df[\"Item ID 2\"] = df[\"Item ID 2\"].fillna(0)\n",
    "df[\"Item ID 4\"] = df[\"Item ID 4\"].fillna(0)\n",
    "df[\"Item ID 5\"] = df[\"Item ID 5\"].fillna(0)\n",
    "df[\"Item ID 6\"] = df[\"Item ID 6\"].fillna(0)"
   ]
  },
  {
   "cell_type": "code",
   "execution_count": 26,
   "metadata": {},
   "outputs": [],
   "source": [
    "pearson_user2 = 1 - pairwise_distances(df, metric = \"correlation\")"
   ]
  },
  {
   "cell_type": "code",
   "execution_count": 27,
   "metadata": {},
   "outputs": [],
   "source": [
    "pearson_item2 = 1 - pairwise_distances(df.T, metric = \"correlation\")"
   ]
  },
  {
   "cell_type": "code",
   "execution_count": 28,
   "metadata": {},
   "outputs": [],
   "source": [
    "sorted_similarities_user = np.argsort(np.array(pearson_user2))\n",
    "sorted_similarities_item = np.argsort(np.array(pearson_item2))"
   ]
  },
  {
   "cell_type": "code",
   "execution_count": 29,
   "metadata": {},
   "outputs": [],
   "source": [
    "data_array = df.values"
   ]
  },
  {
   "cell_type": "code",
   "execution_count": 30,
   "metadata": {},
   "outputs": [],
   "source": [
    "single_array = pearson_user2[:,1]"
   ]
  },
  {
   "cell_type": "code",
   "execution_count": 31,
   "metadata": {},
   "outputs": [],
   "source": [
    "sorted_similarities_user = np.argsort(np.array(single_array))"
   ]
  },
  {
   "cell_type": "code",
   "execution_count": 32,
   "metadata": {},
   "outputs": [],
   "source": [
    "single_array_item = pearson_item2[:,1]"
   ]
  },
  {
   "cell_type": "code",
   "execution_count": 33,
   "metadata": {},
   "outputs": [],
   "source": [
    "sorted_similarities_item = np.argsort(np.array(single_array_item))"
   ]
  },
  {
   "cell_type": "code",
   "execution_count": 34,
   "metadata": {},
   "outputs": [
    {
     "data": {
      "text/plain": [
       "array([[ 1.        ,  0.45922507,  0.2178067 ,  0.7134313 , -0.01804513,\n",
       "         0.17295304],\n",
       "       [ 0.45922507,  1.        ,  0.50418417,  0.68469949, -0.37878981,\n",
       "        -0.70858435],\n",
       "       [ 0.2178067 ,  0.50418417,  1.        , -0.07444375,  0.59030128,\n",
       "        -0.63277188],\n",
       "       [ 0.7134313 ,  0.68469949, -0.07444375,  1.        , -0.62601269,\n",
       "         0.00862069],\n",
       "       [-0.01804513, -0.37878981,  0.59030128, -0.62601269,  1.        ,\n",
       "         0.07555326],\n",
       "       [ 0.17295304, -0.70858435, -0.63277188,  0.00862069,  0.07555326,\n",
       "         1.        ]])"
      ]
     },
     "execution_count": 34,
     "metadata": {},
     "output_type": "execute_result"
    }
   ],
   "source": [
    "pearson_item2"
   ]
  },
  {
   "cell_type": "code",
   "execution_count": 51,
   "metadata": {},
   "outputs": [],
   "source": [
    "def mean(matrix, k):\n",
    "    add = 0\n",
    "    track = 0\n",
    "    for i in range(len(matrix)):\n",
    "        if not matrix[i] == 0 and i != k:\n",
    "            add += matrix[i]\n",
    "            track += 1\n",
    "    return add/track"
   ]
  },
  {
   "cell_type": "code",
   "execution_count": 52,
   "metadata": {},
   "outputs": [
    {
     "data": {
      "text/plain": [
       "array([ 0.45922507,  1.        ,  0.50418417,  0.68469949, -0.37878981,\n",
       "       -0.70858435])"
      ]
     },
     "execution_count": 52,
     "metadata": {},
     "output_type": "execute_result"
    }
   ],
   "source": [
    "single_array_item"
   ]
  },
  {
   "cell_type": "raw",
   "metadata": {},
   "source": [
    "len(sorted_similarities_user)"
   ]
  },
  {
   "cell_type": "code",
   "execution_count": 53,
   "metadata": {},
   "outputs": [],
   "source": [
    "def user_based_user2_ratings(userId, itemId, index_of_similarities, similarities):\n",
    "    neighbours = 0\n",
    "    weighted_ratings = 0\n",
    "    sum_weights = 0\n",
    "    var = 0            \n",
    "    for i in range(len(index_of_similarities)-2, -1, -1):\n",
    "        if similarities[index_of_similarities[i]] >=0 and neighbours < 2 and data_array[index_of_similarities[i]][itemId] != 0:\n",
    "            weighted_ratings += similarities[index_of_similarities[i]]*(data_array[index_of_similarities[i]][itemId] - mean(data_array[index_of_similarities[i]], itemId))\n",
    "            sum_weights += similarities[index_of_similarities[i]]\n",
    "            neighbours += 1\n",
    "\n",
    "    if sum_weights == 0:\n",
    "        var = 0\n",
    "    else:\n",
    "        var = weighted_ratings/sum_weights\n",
    "        \n",
    "    rating = mean(data_array[userId], itemId)+ var\n",
    "    return rating"
   ]
  },
  {
   "cell_type": "markdown",
   "metadata": {},
   "source": [
    "Rating of user 2 for item 2 using Pearson correlation for user is"
   ]
  },
  {
   "cell_type": "code",
   "execution_count": 54,
   "metadata": {},
   "outputs": [
    {
     "data": {
      "text/plain": [
       "4.5"
      ]
     },
     "execution_count": 54,
     "metadata": {},
     "output_type": "execute_result"
    }
   ],
   "source": [
    "user_based_user2_ratings(1,1,sorted_similarities_user, single_array )"
   ]
  },
  {
   "cell_type": "markdown",
   "metadata": {},
   "source": [
    "Rating of user 2 for item 4 using Pearson correlation for user is"
   ]
  },
  {
   "cell_type": "code",
   "execution_count": 55,
   "metadata": {},
   "outputs": [
    {
     "data": {
      "text/plain": [
       "3.75"
      ]
     },
     "execution_count": 55,
     "metadata": {},
     "output_type": "execute_result"
    }
   ],
   "source": [
    "user_based_user2_ratings(1,3,sorted_similarities_user, single_array )"
   ]
  },
  {
   "cell_type": "markdown",
   "metadata": {},
   "source": [
    "Rating of user 2 for item 2 using Pearson correlation for item is"
   ]
  },
  {
   "cell_type": "code",
   "execution_count": 56,
   "metadata": {},
   "outputs": [],
   "source": [
    "def item_based_user2_ratings(userId, itemId, index_of_similarities, similarities):\n",
    "    neighbours = 0\n",
    "    weighted_ratings = 0\n",
    "    sum_weights = 0\n",
    "    var = 0            \n",
    "    for i in range(len(index_of_similarities)-2, -1, -1):\n",
    "        if similarities[index_of_similarities[i]] >=0 and neighbours < 2 and data_array.T[index_of_similarities[i]][userId] != 0:\n",
    "            weighted_ratings += similarities[index_of_similarities[i]]*(data_array.T[index_of_similarities[i]][userId] - mean(data_array.T[index_of_similarities[i]], userId))\n",
    "            sum_weights += similarities[index_of_similarities[i]]\n",
    "            neighbours += 1\n",
    "\n",
    "    if sum_weights == 0:\n",
    "        var = 0\n",
    "    else:\n",
    "        var = weighted_ratings/sum_weights\n",
    "        \n",
    "    rating = mean(data_array.T[itemId], userId)+ var\n",
    "    return rating"
   ]
  },
  {
   "cell_type": "code",
   "execution_count": 57,
   "metadata": {},
   "outputs": [],
   "source": [
    "single_array_item4 = pearson_item2[:,3]"
   ]
  },
  {
   "cell_type": "code",
   "execution_count": 58,
   "metadata": {},
   "outputs": [],
   "source": [
    "sorted_similarities_item4 = np.argsort(np.array(single_array_item4))"
   ]
  },
  {
   "cell_type": "markdown",
   "metadata": {},
   "source": [
    "Rating of user 2 for item 4 using Pearson correlation for item is"
   ]
  },
  {
   "cell_type": "code",
   "execution_count": 59,
   "metadata": {},
   "outputs": [
    {
     "data": {
      "text/plain": [
       "2.914676807709568"
      ]
     },
     "execution_count": 59,
     "metadata": {},
     "output_type": "execute_result"
    }
   ],
   "source": [
    "item_based_user2_ratings(1,3,sorted_similarities_item4, single_array_item4 )"
   ]
  },
  {
   "cell_type": "markdown",
   "metadata": {},
   "source": [
    "Rating of user 2 for item 2 using Pearson correlation for item is:"
   ]
  },
  {
   "cell_type": "code",
   "execution_count": 60,
   "metadata": {},
   "outputs": [
    {
     "data": {
      "text/plain": [
       "4.566944445266876"
      ]
     },
     "execution_count": 60,
     "metadata": {},
     "output_type": "execute_result"
    }
   ],
   "source": [
    "item_based_user2_ratings(1,1,sorted_similarities_item, single_array_item )"
   ]
  }
 ],
 "metadata": {
  "kernelspec": {
   "display_name": "Python 3",
   "language": "python",
   "name": "python3"
  },
  "language_info": {
   "codemirror_mode": {
    "name": "ipython",
    "version": 3
   },
   "file_extension": ".py",
   "mimetype": "text/x-python",
   "name": "python",
   "nbconvert_exporter": "python",
   "pygments_lexer": "ipython3",
   "version": "3.7.1"
  }
 },
 "nbformat": 4,
 "nbformat_minor": 2
}
