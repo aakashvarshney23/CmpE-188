{
 "cells": [
  {
   "cell_type": "markdown",
   "metadata": {},
   "source": [
    "The following are the scores of a 23-student class on Machine Learning, out of 100. As can be seen, based on the grading scale listed in your syllabus sheet, most of the students will fail. The professor therefore decides to grade on the curve with the mean score receiving a B- grade, the grade going up or down one step from there with every standard deviation change in the score. Assume SJSU letter grading [F to A+]. Write a program in python to determine each student’s grade.\n",
    "    47, 63, 71, 39, 47, 49, 43, 37, 81, 69, 38, 13, 29, 61, 49, 53, 57, 23, 58, 17, 73, 33, 29"
   ]
  },
  {
   "cell_type": "code",
   "execution_count": 1,
   "metadata": {},
   "outputs": [],
   "source": [
    "import numpy as np"
   ]
  },
  {
   "cell_type": "code",
   "execution_count": 2,
   "metadata": {},
   "outputs": [],
   "source": [
    "score_1 = np.array([47, 63, 71, 39, 47, 49, 43, 37, 81, 69, 38, 13, 29, 61, 49, 53, 57, 23, 58, 17, 73, 33, 29])"
   ]
  },
  {
   "cell_type": "code",
   "execution_count": 3,
   "metadata": {},
   "outputs": [],
   "source": [
    "grade_score =  'F', 'D-', 'D', 'D+', 'C-', 'C', 'C+', 'B-', 'B+', 'B', 'A-','A', 'A+'"
   ]
  },
  {
   "cell_type": "code",
   "execution_count": 4,
   "metadata": {},
   "outputs": [],
   "source": [
    "mean = np.mean(score_1)"
   ]
  },
  {
   "cell_type": "code",
   "execution_count": 5,
   "metadata": {},
   "outputs": [],
   "source": [
    "standard_deviation = np.std(score_1)"
   ]
  },
  {
   "cell_type": "code",
   "execution_count": 6,
   "metadata": {},
   "outputs": [
    {
     "data": {
      "text/plain": [
       "17.871310609777705"
      ]
     },
     "execution_count": 6,
     "metadata": {},
     "output_type": "execute_result"
    }
   ],
   "source": [
    "standard_deviation"
   ]
  },
  {
   "cell_type": "code",
   "execution_count": 13,
   "metadata": {},
   "outputs": [],
   "source": [
    "def gra_score(score):\n",
    "    index = ((score - mean)/(standard_deviation))\n",
    "    new_index = 7 + index\n",
    "    return grade_score[round(new_index).astype('int32')]"
   ]
  },
  {
   "cell_type": "code",
   "execution_count": 14,
   "metadata": {},
   "outputs": [
    {
     "name": "stdout",
     "output_type": "stream",
     "text": [
      "Marks 47 ==> Grade B- \n",
      "Marks 63 ==> Grade B+ \n",
      "Marks 71 ==> Grade B+ \n",
      "Marks 39 ==> Grade B- \n",
      "Marks 47 ==> Grade B- \n",
      "Marks 49 ==> Grade B- \n",
      "Marks 43 ==> Grade B- \n",
      "Marks 37 ==> Grade C+ \n",
      "Marks 81 ==> Grade B \n",
      "Marks 69 ==> Grade B+ \n",
      "Marks 38 ==> Grade B- \n",
      "Marks 13 ==> Grade C \n",
      "Marks 29 ==> Grade C+ \n",
      "Marks 61 ==> Grade B+ \n",
      "Marks 49 ==> Grade B- \n",
      "Marks 53 ==> Grade B- \n",
      "Marks 57 ==> Grade B+ \n",
      "Marks 23 ==> Grade C+ \n",
      "Marks 58 ==> Grade B+ \n",
      "Marks 17 ==> Grade C \n",
      "Marks 73 ==> Grade B+ \n",
      "Marks 33 ==> Grade C+ \n",
      "Marks 29 ==> Grade C+ \n"
     ]
    }
   ],
   "source": [
    "for i in list(score_1):\n",
    "    print('Marks {} ==> Grade {} '.format(i,gra_score(i)))"
   ]
  },
  {
   "cell_type": "code",
   "execution_count": null,
   "metadata": {},
   "outputs": [],
   "source": [
    "gra_score(34)"
   ]
  },
  {
   "cell_type": "code",
   "execution_count": null,
   "metadata": {},
   "outputs": [],
   "source": [
    "mean"
   ]
  }
 ],
 "metadata": {
  "kernelspec": {
   "display_name": "Python 3",
   "language": "python",
   "name": "python3"
  },
  "language_info": {
   "codemirror_mode": {
    "name": "ipython",
    "version": 3
   },
   "file_extension": ".py",
   "mimetype": "text/x-python",
   "name": "python",
   "nbconvert_exporter": "python",
   "pygments_lexer": "ipython3",
   "version": "3.7.1"
  }
 },
 "nbformat": 4,
 "nbformat_minor": 2
}
