{
 "cells": [
  {
   "cell_type": "markdown",
   "metadata": {},
   "source": [
    "Predict the values of unspecified ratings of user 2 using user-based collaborative\n",
    "\n",
    "filtering algorithms, using (i) cosine similarity. "
   ]
  },
  {
   "cell_type": "code",
   "execution_count": 2,
   "metadata": {},
   "outputs": [],
   "source": [
    "import numpy as np\n",
    "import pandas as pd\n",
    "from scipy.linalg import svd\n",
    "from surprise.model_selection import train_test_split\n",
    "from surprise import Reader, Dataset\n",
    "from surprise import SVD, accuracy\n",
    "from sklearn.metrics.pairwise import cosine_similarity"
   ]
  },
  {
   "cell_type": "code",
   "execution_count": 3,
   "metadata": {},
   "outputs": [],
   "source": [
    "d= {'Item ID 1': [5,4,'null',7,1],\n",
    "    'Item ID 2': [6,'null',3,4,'null'], \n",
    "    'Item ID 3': [7,5,4,3,3], \n",
    "    'Item ID 4': [4,'null',1,6,2], \n",
    "    'Item ID 5': [3,5,1,'null',2], \n",
    "    'Item ID 6': ['null',4,'null',4,5] }"
   ]
  },
  {
   "cell_type": "code",
   "execution_count": 4,
   "metadata": {},
   "outputs": [
    {
     "data": {
      "text/html": [
       "<div>\n",
       "<style scoped>\n",
       "    .dataframe tbody tr th:only-of-type {\n",
       "        vertical-align: middle;\n",
       "    }\n",
       "\n",
       "    .dataframe tbody tr th {\n",
       "        vertical-align: top;\n",
       "    }\n",
       "\n",
       "    .dataframe thead th {\n",
       "        text-align: right;\n",
       "    }\n",
       "</style>\n",
       "<table border=\"1\" class=\"dataframe\">\n",
       "  <thead>\n",
       "    <tr style=\"text-align: right;\">\n",
       "      <th></th>\n",
       "      <th>Item ID 1</th>\n",
       "      <th>Item ID 2</th>\n",
       "      <th>Item ID 3</th>\n",
       "      <th>Item ID 4</th>\n",
       "      <th>Item ID 5</th>\n",
       "      <th>Item ID 6</th>\n",
       "    </tr>\n",
       "  </thead>\n",
       "  <tbody>\n",
       "    <tr>\n",
       "      <th>0</th>\n",
       "      <td>5</td>\n",
       "      <td>6</td>\n",
       "      <td>7</td>\n",
       "      <td>4</td>\n",
       "      <td>3</td>\n",
       "      <td>null</td>\n",
       "    </tr>\n",
       "    <tr>\n",
       "      <th>1</th>\n",
       "      <td>4</td>\n",
       "      <td>null</td>\n",
       "      <td>5</td>\n",
       "      <td>null</td>\n",
       "      <td>5</td>\n",
       "      <td>4</td>\n",
       "    </tr>\n",
       "    <tr>\n",
       "      <th>2</th>\n",
       "      <td>null</td>\n",
       "      <td>3</td>\n",
       "      <td>4</td>\n",
       "      <td>1</td>\n",
       "      <td>1</td>\n",
       "      <td>null</td>\n",
       "    </tr>\n",
       "    <tr>\n",
       "      <th>3</th>\n",
       "      <td>7</td>\n",
       "      <td>4</td>\n",
       "      <td>3</td>\n",
       "      <td>6</td>\n",
       "      <td>null</td>\n",
       "      <td>4</td>\n",
       "    </tr>\n",
       "    <tr>\n",
       "      <th>4</th>\n",
       "      <td>1</td>\n",
       "      <td>null</td>\n",
       "      <td>3</td>\n",
       "      <td>2</td>\n",
       "      <td>2</td>\n",
       "      <td>5</td>\n",
       "    </tr>\n",
       "  </tbody>\n",
       "</table>\n",
       "</div>"
      ],
      "text/plain": [
       "  Item ID 1 Item ID 2  Item ID 3 Item ID 4 Item ID 5 Item ID 6\n",
       "0         5         6          7         4         3      null\n",
       "1         4      null          5      null         5         4\n",
       "2      null         3          4         1         1      null\n",
       "3         7         4          3         6      null         4\n",
       "4         1      null          3         2         2         5"
      ]
     },
     "execution_count": 4,
     "metadata": {},
     "output_type": "execute_result"
    }
   ],
   "source": [
    "df = pd.DataFrame(data= d)\n",
    "df"
   ]
  },
  {
   "cell_type": "code",
   "execution_count": 5,
   "metadata": {},
   "outputs": [],
   "source": [
    "df['Item ID 1'] = df['Item ID 1'].replace({'null':np.nan}).astype(float)\n",
    "df['Item ID 2'] = df['Item ID 2'].replace({'null':np.nan}).astype(float)\n",
    "df['Item ID 4'] = df['Item ID 4'].replace({'null':np.nan}).astype(float)\n",
    "df['Item ID 5'] = df['Item ID 5'].replace({'null':np.nan}).astype(float)\n",
    "df['Item ID 6'] = df['Item ID 6'].replace({'null':np.nan}).astype(float)"
   ]
  },
  {
   "cell_type": "code",
   "execution_count": 6,
   "metadata": {},
   "outputs": [],
   "source": [
    "df[\"Item ID 1\"] = df[\"Item ID 1\"].fillna(0)\n",
    "df[\"Item ID 2\"] = df[\"Item ID 2\"].fillna(0)\n",
    "df[\"Item ID 4\"] = df[\"Item ID 4\"].fillna(0)\n",
    "df[\"Item ID 5\"] = df[\"Item ID 5\"].fillna(0)\n",
    "df[\"Item ID 6\"] = df[\"Item ID 6\"].fillna(0)"
   ]
  },
  {
   "cell_type": "code",
   "execution_count": 7,
   "metadata": {},
   "outputs": [
    {
     "data": {
      "text/html": [
       "<div>\n",
       "<style scoped>\n",
       "    .dataframe tbody tr th:only-of-type {\n",
       "        vertical-align: middle;\n",
       "    }\n",
       "\n",
       "    .dataframe tbody tr th {\n",
       "        vertical-align: top;\n",
       "    }\n",
       "\n",
       "    .dataframe thead th {\n",
       "        text-align: right;\n",
       "    }\n",
       "</style>\n",
       "<table border=\"1\" class=\"dataframe\">\n",
       "  <thead>\n",
       "    <tr style=\"text-align: right;\">\n",
       "      <th></th>\n",
       "      <th>Item ID 1</th>\n",
       "      <th>Item ID 2</th>\n",
       "      <th>Item ID 3</th>\n",
       "      <th>Item ID 4</th>\n",
       "      <th>Item ID 5</th>\n",
       "      <th>Item ID 6</th>\n",
       "    </tr>\n",
       "  </thead>\n",
       "  <tbody>\n",
       "    <tr>\n",
       "      <th>0</th>\n",
       "      <td>5.0</td>\n",
       "      <td>6.0</td>\n",
       "      <td>7</td>\n",
       "      <td>4.0</td>\n",
       "      <td>3.0</td>\n",
       "      <td>0.0</td>\n",
       "    </tr>\n",
       "    <tr>\n",
       "      <th>1</th>\n",
       "      <td>4.0</td>\n",
       "      <td>0.0</td>\n",
       "      <td>5</td>\n",
       "      <td>0.0</td>\n",
       "      <td>5.0</td>\n",
       "      <td>4.0</td>\n",
       "    </tr>\n",
       "    <tr>\n",
       "      <th>2</th>\n",
       "      <td>0.0</td>\n",
       "      <td>3.0</td>\n",
       "      <td>4</td>\n",
       "      <td>1.0</td>\n",
       "      <td>1.0</td>\n",
       "      <td>0.0</td>\n",
       "    </tr>\n",
       "    <tr>\n",
       "      <th>3</th>\n",
       "      <td>7.0</td>\n",
       "      <td>4.0</td>\n",
       "      <td>3</td>\n",
       "      <td>6.0</td>\n",
       "      <td>0.0</td>\n",
       "      <td>4.0</td>\n",
       "    </tr>\n",
       "    <tr>\n",
       "      <th>4</th>\n",
       "      <td>1.0</td>\n",
       "      <td>0.0</td>\n",
       "      <td>3</td>\n",
       "      <td>2.0</td>\n",
       "      <td>2.0</td>\n",
       "      <td>5.0</td>\n",
       "    </tr>\n",
       "  </tbody>\n",
       "</table>\n",
       "</div>"
      ],
      "text/plain": [
       "   Item ID 1  Item ID 2  Item ID 3  Item ID 4  Item ID 5  Item ID 6\n",
       "0        5.0        6.0          7        4.0        3.0        0.0\n",
       "1        4.0        0.0          5        0.0        5.0        4.0\n",
       "2        0.0        3.0          4        1.0        1.0        0.0\n",
       "3        7.0        4.0          3        6.0        0.0        4.0\n",
       "4        1.0        0.0          3        2.0        2.0        5.0"
      ]
     },
     "execution_count": 7,
     "metadata": {},
     "output_type": "execute_result"
    }
   ],
   "source": [
    "df"
   ]
  },
  {
   "cell_type": "code",
   "execution_count": 8,
   "metadata": {},
   "outputs": [],
   "source": [
    "user_based_user2 = cosine_similarity(df, Y= None)[:,1]"
   ]
  },
  {
   "cell_type": "code",
   "execution_count": 9,
   "metadata": {},
   "outputs": [],
   "source": [
    "item_based_user2 = cosine_similarity(df.T, Y= None)[:,1]"
   ]
  },
  {
   "cell_type": "code",
   "execution_count": 10,
   "metadata": {},
   "outputs": [],
   "source": [
    "data_array = df.values"
   ]
  },
  {
   "cell_type": "code",
   "execution_count": 11,
   "metadata": {},
   "outputs": [
    {
     "data": {
      "text/plain": [
       "array([[5., 6., 7., 4., 3., 0.],\n",
       "       [4., 0., 5., 0., 5., 4.],\n",
       "       [0., 3., 4., 1., 1., 0.],\n",
       "       [7., 4., 3., 6., 0., 4.],\n",
       "       [1., 0., 3., 2., 2., 5.]])"
      ]
     },
     "execution_count": 11,
     "metadata": {},
     "output_type": "execute_result"
    }
   ],
   "source": [
    "data_array"
   ]
  },
  {
   "cell_type": "code",
   "execution_count": 12,
   "metadata": {},
   "outputs": [
    {
     "data": {
      "text/plain": [
       "array([0.66531027, 1.        , 0.53131393, 0.58044331, 0.82519184])"
      ]
     },
     "execution_count": 12,
     "metadata": {},
     "output_type": "execute_result"
    }
   ],
   "source": [
    "user_based_user2"
   ]
  },
  {
   "cell_type": "code",
   "execution_count": 13,
   "metadata": {},
   "outputs": [],
   "source": [
    "sorted_similarities_user = np.argsort(np.array(user_based_user2))"
   ]
  },
  {
   "cell_type": "code",
   "execution_count": 14,
   "metadata": {},
   "outputs": [],
   "source": [
    "sorted_similarities_item = np.argsort(np.array(item_based_user2))"
   ]
  },
  {
   "cell_type": "code",
   "execution_count": 15,
   "metadata": {},
   "outputs": [],
   "source": [
    "def user_based_user2_ratings(userId, itemId, index_of_similarities, similarities):\n",
    "    neighbours = 0\n",
    "    weighted_ratings = 0\n",
    "    sum_weights = 0\n",
    "    \n",
    "    for i in range(len(index_of_similarities)-2, -1, -1):\n",
    "        if neighbours < 2 and data_array[index_of_similarities[i]][itemId] != 0:\n",
    "            weighted_ratings += similarities[index_of_similarities[i]]*data_array[index_of_similarities[i]][itemId]\n",
    "            sum_weights += similarities[index_of_similarities[i]]\n",
    "            neighbours += 1\n",
    "    rating = weighted_ratings/sum_weights\n",
    "    return rating"
   ]
  },
  {
   "cell_type": "markdown",
   "metadata": {},
   "source": [
    "User based rating for user 2, item 2 using cosine similarity"
   ]
  },
  {
   "cell_type": "code",
   "execution_count": 16,
   "metadata": {},
   "outputs": [
    {
     "data": {
      "text/plain": [
       "5.068124997038463"
      ]
     },
     "execution_count": 16,
     "metadata": {},
     "output_type": "execute_result"
    }
   ],
   "source": [
    "user_based_user2_ratings(1, 1, sorted_similarities_user, user_based_user2)"
   ]
  },
  {
   "cell_type": "markdown",
   "metadata": {},
   "source": [
    "User based rating for user 2, item 4 using cosine similarity"
   ]
  },
  {
   "cell_type": "code",
   "execution_count": 17,
   "metadata": {},
   "outputs": [
    {
     "data": {
      "text/plain": [
       "2.892733081351295"
      ]
     },
     "execution_count": 17,
     "metadata": {},
     "output_type": "execute_result"
    }
   ],
   "source": [
    "user_based_user2_ratings(1, 3, sorted_similarities_user, user_based_user2)"
   ]
  },
  {
   "cell_type": "code",
   "execution_count": 18,
   "metadata": {},
   "outputs": [],
   "source": [
    "def item_based_user2_ratings(userId, itemId, index_of_similarities, similarities):\n",
    "    neighbours = 0\n",
    "    weighted_ratings = 0\n",
    "    sum_weights = 0\n",
    "    \n",
    "    for i in range(len(index_of_similarities)-3, -1, -1):\n",
    "        if neighbours < 2 and data_array.T[index_of_similarities[i]][userId] != 0:\n",
    "            weighted_ratings += similarities[index_of_similarities[i]]*data_array.T[index_of_similarities[i]][userId]\n",
    "            sum_weights += similarities[index_of_similarities[i]]\n",
    "            neighbours += 1\n",
    "    rating = weighted_ratings/sum_weights\n",
    "    return rating"
   ]
  },
  {
   "cell_type": "markdown",
   "metadata": {},
   "source": [
    "Item based rating for user 2, item 2 using cosine similarity"
   ]
  },
  {
   "cell_type": "code",
   "execution_count": 19,
   "metadata": {},
   "outputs": [
    {
     "data": {
      "text/plain": [
       "4.510892244281176"
      ]
     },
     "execution_count": 19,
     "metadata": {},
     "output_type": "execute_result"
    }
   ],
   "source": [
    "item_based_user2_ratings(1, 1,sorted_similarities_item, item_based_user2)"
   ]
  },
  {
   "cell_type": "markdown",
   "metadata": {},
   "source": [
    "Item based rating for user 2, item 4 using cosine similarity"
   ]
  },
  {
   "cell_type": "code",
   "execution_count": 22,
   "metadata": {},
   "outputs": [
    {
     "data": {
      "text/plain": [
       "4.510892244281176"
      ]
     },
     "execution_count": 22,
     "metadata": {},
     "output_type": "execute_result"
    }
   ],
   "source": [
    "item_based_user2_ratings(1, 3,sorted_similarities_item, item_based_user2)"
   ]
  }
 ],
 "metadata": {
  "kernelspec": {
   "display_name": "Python 3",
   "language": "python",
   "name": "python3"
  },
  "language_info": {
   "codemirror_mode": {
    "name": "ipython",
    "version": 3
   },
   "file_extension": ".py",
   "mimetype": "text/x-python",
   "name": "python",
   "nbconvert_exporter": "python",
   "pygments_lexer": "ipython3",
   "version": "3.7.1"
  }
 },
 "nbformat": 4,
 "nbformat_minor": 2
}
