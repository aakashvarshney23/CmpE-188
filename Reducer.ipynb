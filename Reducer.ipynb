{
 "cells": [
  {
   "cell_type": "code",
   "execution_count": 1,
   "metadata": {},
   "outputs": [
    {
     "name": "stdout",
     "output_type": "stream",
     "text": [
      "Count of rows with less than 5k count 0\n",
      "Count of rows with less 10k - 20k count 0\n"
     ]
    }
   ],
   "source": [
    "\"\"\"reducer.py\"\"\"\n",
    "from operator import itemgetter\n",
    "import sys\n",
    "\n",
    "less_than_5k_count = 0\n",
    "more_than_5k_count = 0\n",
    "\n",
    "for line in sys.stdin:\n",
    "    line = line.strip()\n",
    "    a, count = line.split('\\t', 1)\n",
    "\n",
    "    try:\n",
    "        count = int(count)\n",
    "        a = float(a)\n",
    "    except ValueError:\n",
    "        continue\n",
    "\n",
    "    if a < 5000:\n",
    "        less_than_5k_count += count\n",
    "    else:\n",
    "        more_than_5k_count += count\n",
    "\n",
    "print(\"Count of rows with less than 5k count\",  less_than_5k_count)\n",
    "print(\"Count of rows with less 10k - 20k count\" ,more_than_5k_count)\n",
    "\n"
   ]
  },
  {
   "cell_type": "code",
   "execution_count": null,
   "metadata": {},
   "outputs": [],
   "source": []
  }
 ],
 "metadata": {
  "kernelspec": {
   "display_name": "Python 3",
   "language": "python",
   "name": "python3"
  },
  "language_info": {
   "codemirror_mode": {
    "name": "ipython",
    "version": 3
   },
   "file_extension": ".py",
   "mimetype": "text/x-python",
   "name": "python",
   "nbconvert_exporter": "python",
   "pygments_lexer": "ipython3",
   "version": "3.7.1"
  }
 },
 "nbformat": 4,
 "nbformat_minor": 2
}
